{
 "cells": [
  {
   "cell_type": "markdown",
   "metadata": {},
   "source": [
    "# Functions:\n",
    "- block of code to perform particular task\n",
    "- advantages\n",
    "- code reses\n",
    "- size decreses\n",
    "\n",
    "Types of functions:\n",
    "1. predefine\n",
    "2. userdefine\n",
    "3. special\n",
    "### user defined functions\n",
    "   + based on return type\n",
    "      1.without arg and without return value\n",
    "      2.without arg and with return value\n",
    "      3.with arg and without return value\n",
    "      4.with arg and with return value\n",
    "   + based on arg\n",
    "      1.\n",
    "      2.required arg\n",
    "      3.variable length arg\n",
    "      4.keyword arg"
   ]
  },
  {
   "cell_type": "markdown",
   "metadata": {},
   "source": [
    "# how to create user define function\n",
    "1. function creation\n",
    "    1. fun declare\n",
    "            def FunctionName(arg):\n",
    "    2. fun defination:\n",
    "            statements\n",
    "2. function calling:\n",
    "    by using FunctionName"
   ]
  },
  {
   "cell_type": "code",
   "execution_count": 2,
   "metadata": {},
   "outputs": [
    {
     "name": "stdout",
     "output_type": "stream",
     "text": [
      "sample function\n"
     ]
    }
   ],
   "source": [
    "def sample():\n",
    "    print('sample function')\n",
    "sample()"
   ]
  },
  {
   "cell_type": "code",
   "execution_count": 3,
   "metadata": {},
   "outputs": [
    {
     "name": "stdout",
     "output_type": "stream",
     "text": [
      "4\n",
      "5\n",
      "adding of 4 and 5 is 9\n"
     ]
    }
   ],
   "source": [
    "#1.without arg and without return value\n",
    "def fun():\n",
    "    s1 = int(input())\n",
    "    s2 = int(input())\n",
    "    print('adding of {} and {} is {}'.format(s1,s2,s1+s2))\n",
    "fun()\n",
    "#2.without arg and with return value\n",
    "#3.with arg and without return value\n",
    "#4.with arg and with return value"
   ]
  },
  {
   "cell_type": "code",
   "execution_count": null,
   "metadata": {},
   "outputs": [],
   "source": [
    "def fun2():\n",
    "    print('mul of {} and {} is {}'.format(a,b,a*b))\n",
    "fun2(42,78)"
   ]
  },
  {
   "cell_type": "code",
   "execution_count": 1,
   "metadata": {},
   "outputs": [
    {
     "name": "stdout",
     "output_type": "stream",
     "text": [
      "mul of 45 and 78 is 3510\n",
      "div is 0.5769230769230769\n"
     ]
    }
   ],
   "source": [
    "def fun3(a,b):\n",
    "    print('mul of {} and {} is {}'.format(a,b,a*b))\n",
    "    return a/b\n",
    "s = fun3(45,78)\n",
    "print('div is {}'.format(s))"
   ]
  },
  {
   "cell_type": "code",
   "execution_count": 2,
   "metadata": {},
   "outputs": [
    {
     "data": {
      "text/plain": [
       "1048576"
      ]
     },
     "execution_count": 2,
     "metadata": {},
     "output_type": "execute_result"
    }
   ],
   "source": [
    "# 1. Default Arguments\n",
    "def default(a=10,b=20):\n",
    "    return a**b\n",
    "default(2)\n",
    "\n"
   ]
  },
  {
   "cell_type": "code",
   "execution_count": 7,
   "metadata": {},
   "outputs": [
    {
     "name": "stdout",
     "output_type": "stream",
     "text": [
      "2 3 10\n"
     ]
    }
   ],
   "source": [
    "# 2. Required of Positional Arguments\n",
    "def required(a,b,c=10):\n",
    "    print(a,b,c)\n",
    "required(2,3)"
   ]
  },
  {
   "cell_type": "code",
   "execution_count": 13,
   "metadata": {},
   "outputs": [
    {
     "name": "stdout",
     "output_type": "stream",
     "text": [
      "(8, 0)\n"
     ]
    }
   ],
   "source": [
    "# 3. Variable length\n",
    "def var_len(*a):\n",
    "    print(a)\n",
    "var_len(8,0)"
   ]
  },
  {
   "cell_type": "code",
   "execution_count": 14,
   "metadata": {},
   "outputs": [
    {
     "data": {
      "text/plain": [
       "10"
      ]
     },
     "execution_count": 14,
     "metadata": {},
     "output_type": "execute_result"
    }
   ],
   "source": [
    "def var_len(*a):\n",
    "    s = 0\n",
    "    for i in a:\n",
    "        s+=i\n",
    "    return s\n",
    "var_len(1,2,3,4)"
   ]
  },
  {
   "cell_type": "code",
   "execution_count": 20,
   "metadata": {},
   "outputs": [
    {
     "name": "stdout",
     "output_type": "stream",
     "text": [
      "hello syam welcome to pace college\n"
     ]
    }
   ],
   "source": [
    "# 4. Keyword arg\n",
    "def keyword(name,college):\n",
    "    print('hello {} welcome to {} college'.format(name,college))\n",
    "keyword(name = 'syam', college = 'pace')"
   ]
  },
  {
   "cell_type": "code",
   "execution_count": 21,
   "metadata": {},
   "outputs": [
    {
     "name": "stdout",
     "output_type": "stream",
     "text": [
      "{'name': ['syam', 'Haritha', 'Dammalapati']}\n"
     ]
    }
   ],
   "source": [
    "def key2(**name):\n",
    "    print(name)\n",
    "key2(name = ['syam','Haritha','Dammalapati'])"
   ]
  },
  {
   "cell_type": "code",
   "execution_count": 23,
   "metadata": {},
   "outputs": [],
   "source": [
    "def table(x,y):\n",
    "    for i in range(1,y+1):\n",
    "        print('{} * {} = {}'.format(x,i,x*i))"
   ]
  },
  {
   "cell_type": "code",
   "execution_count": null,
   "metadata": {},
   "outputs": [],
   "source": [
    "x = int(input('enter tables upto'))\n",
    "y = int(input('enter table length'))\n",
    "for i in range(1,x):\n",
    "    table(i,y)"
   ]
  },
  {
   "cell_type": "code",
   "execution_count": 13,
   "metadata": {},
   "outputs": [
    {
     "name": "stdout",
     "output_type": "stream",
     "text": [
      "Enter No of Tables5\n",
      "Enter table range10\n",
      "0 * 0 = 0\t1 * 0 = 0\t2 * 0 = 0\t3 * 0 = 0\t4 * 0 = 0\t5 * 0 = 0\t\n",
      "\n",
      "0 * 1 = 0\t1 * 1 = 1\t2 * 1 = 2\t3 * 1 = 3\t4 * 1 = 4\t5 * 1 = 5\t\n",
      "\n",
      "0 * 2 = 0\t1 * 2 = 2\t2 * 2 = 4\t3 * 2 = 6\t4 * 2 = 8\t5 * 2 = 10\t\n",
      "\n",
      "0 * 3 = 0\t1 * 3 = 3\t2 * 3 = 6\t3 * 3 = 9\t4 * 3 = 12\t5 * 3 = 15\t\n",
      "\n",
      "0 * 4 = 0\t1 * 4 = 4\t2 * 4 = 8\t3 * 4 = 12\t4 * 4 = 16\t5 * 4 = 20\t\n",
      "\n",
      "0 * 5 = 0\t1 * 5 = 5\t2 * 5 = 10\t3 * 5 = 15\t4 * 5 = 20\t5 * 5 = 25\t\n",
      "\n",
      "0 * 6 = 0\t1 * 6 = 6\t2 * 6 = 12\t3 * 6 = 18\t4 * 6 = 24\t5 * 6 = 30\t\n",
      "\n",
      "0 * 7 = 0\t1 * 7 = 7\t2 * 7 = 14\t3 * 7 = 21\t4 * 7 = 28\t5 * 7 = 35\t\n",
      "\n",
      "0 * 8 = 0\t1 * 8 = 8\t2 * 8 = 16\t3 * 8 = 24\t4 * 8 = 32\t5 * 8 = 40\t\n",
      "\n",
      "0 * 9 = 0\t1 * 9 = 9\t2 * 9 = 18\t3 * 9 = 27\t4 * 9 = 36\t5 * 9 = 45\t\n",
      "\n",
      "0 * 10 = 0\t1 * 10 = 10\t2 * 10 = 20\t3 * 10 = 30\t4 * 10 = 40\t5 * 10 = 50\t\n",
      "\n"
     ]
    }
   ],
   "source": [
    "n1=int(input('Enter No of Tables'))\n",
    "n2=int(input('Enter table range'))\n",
    "for j in range(n2+1):\n",
    "    for i in range(n1+1):\n",
    "        print(i,'*',j,'=',i*j,end='\\t')\n",
    "    print('\\n')"
   ]
  },
  {
   "cell_type": "code",
   "execution_count": 34,
   "metadata": {},
   "outputs": [
    {
     "name": "stdout",
     "output_type": "stream",
     "text": [
      "100 102 104 106 108 110 112 114 116 118 120 122 124 126 128 130 132 134 136 138 140 142 144 146 148 150 "
     ]
    }
   ],
   "source": [
    "def Even_Fun(start,end):\n",
    "    for i in range(start,end+1):\n",
    "        if i%2==0:\n",
    "            print(i,end = ' ')\n",
    "Even_Fun(100,150)"
   ]
  },
  {
   "cell_type": "code",
   "execution_count": 40,
   "metadata": {},
   "outputs": [
    {
     "name": "stdout",
     "output_type": "stream",
     "text": [
      "enter factor number :8\n",
      "1;2;4;"
     ]
    }
   ],
   "source": [
    "def Fact_Fun(num):\n",
    "    for i in range(1,num//2+1):\n",
    "        if num%i == 0:\n",
    "            print(i,end=';')\n",
    "num = int(input('enter factor number :'))\n",
    "Fact_Fun(num)"
   ]
  },
  {
   "cell_type": "code",
   "execution_count": 48,
   "metadata": {},
   "outputs": [
    {
     "data": {
      "text/plain": [
       "6"
      ]
     },
     "execution_count": 48,
     "metadata": {},
     "output_type": "execute_result"
    }
   ],
   "source": [
    "def sum_fact(n):\n",
    "    s = 0\n",
    "    for i in range(1,n):\n",
    "        if n%i==0:\n",
    "            s+=i\n",
    "    return s\n",
    "sum_fact(6)"
   ]
  },
  {
   "cell_type": "code",
   "execution_count": 50,
   "metadata": {},
   "outputs": [
    {
     "name": "stdout",
     "output_type": "stream",
     "text": [
      "10 not a perfect number\n"
     ]
    }
   ],
   "source": [
    "def perfect(n):\n",
    "    if n == sum_fact(n):\n",
    "        print(n,'perfect number')\n",
    "    else:\n",
    "        print(n,'not a perfect number')\n",
    "perfect(10)        "
   ]
  },
  {
   "cell_type": "code",
   "execution_count": 51,
   "metadata": {},
   "outputs": [
    {
     "data": {
      "text/plain": [
       "24"
      ]
     },
     "execution_count": 51,
     "metadata": {},
     "output_type": "execute_result"
    }
   ],
   "source": [
    "# recursive\n",
    "def Fact(n):\n",
    "    if n == 1 or n == 0:\n",
    "        return 1\n",
    "    else:\n",
    "        return n*Fact(n-1)\n",
    "Fact(4)"
   ]
  },
  {
   "cell_type": "code",
   "execution_count": 52,
   "metadata": {},
   "outputs": [
    {
     "data": {
      "text/plain": [
       "1"
      ]
     },
     "execution_count": 52,
     "metadata": {},
     "output_type": "execute_result"
    }
   ],
   "source": [
    "def Count_Fact(n):\n",
    "    cnt = 0\n",
    "    for i in range(1,n+1):\n",
    "        if n%i == 0:\n",
    "            cnt+=1\n",
    "        return cnt\n",
    "Count_Fact(5)"
   ]
  },
  {
   "cell_type": "code",
   "execution_count": 53,
   "metadata": {},
   "outputs": [
    {
     "name": "stdout",
     "output_type": "stream",
     "text": [
      "7 not prime number\n"
     ]
    }
   ],
   "source": [
    "def IsPrime(n):\n",
    "    if Count_Fact(n) == 2:\n",
    "        print(n,'prime number')\n",
    "    else:\n",
    "        print(n,'not prime number')\n",
    "IsPrime(7)"
   ]
  },
  {
   "cell_type": "markdown",
   "metadata": {},
   "source": [
    "# Strings\n",
    "\n",
    "- Collection of characters or group of characters\n",
    "- string will represent in `''`,`\"\"`,`\"''\"`\n",
    "- sting is ordered data\n",
    "- string is immutable data\n",
    "- string accepts indexing and slicing"
   ]
  },
  {
   "cell_type": "code",
   "execution_count": 54,
   "metadata": {},
   "outputs": [
    {
     "data": {
      "text/plain": [
       "str"
      ]
     },
     "execution_count": 54,
     "metadata": {},
     "output_type": "execute_result"
    }
   ],
   "source": [
    "s = 'abc'\n",
    "type(s)"
   ]
  },
  {
   "cell_type": "code",
   "execution_count": 55,
   "metadata": {},
   "outputs": [
    {
     "name": "stdout",
     "output_type": "stream",
     "text": [
      "pythonprogramming\n"
     ]
    }
   ],
   "source": [
    "s = 'python'\n",
    "s+='programming' #s=s+\n",
    "print(s)"
   ]
  },
  {
   "cell_type": "code",
   "execution_count": 63,
   "metadata": {},
   "outputs": [
    {
     "data": {
      "text/plain": [
       "'g'"
      ]
     },
     "execution_count": 63,
     "metadata": {},
     "output_type": "execute_result"
    }
   ],
   "source": [
    "#indexing\n",
    "#forward indexing -> 0 to len(s)-1\n",
    "#reverse indexing -> -1 to len(s)\n",
    "#s[len]\n",
    "s[0]\n",
    "s[-1]\n",
    "len(s)\n",
    "s[len(s)-1]"
   ]
  },
  {
   "cell_type": "markdown",
   "metadata": {},
   "source": [
    "\n",
    "# Slicing :\n",
    "- var[start_val:end_val:incre]"
   ]
  },
  {
   "cell_type": "code",
   "execution_count": 70,
   "metadata": {},
   "outputs": [
    {
     "name": "stdout",
     "output_type": "stream",
     "text": [
      "pythonprogramming\n",
      "r\n",
      "ramming\n",
      "ramming\n"
     ]
    }
   ],
   "source": [
    "print(s)\n",
    "print(s[10])\n",
    "print(s[10:])\n",
    "print(s[10::])"
   ]
  },
  {
   "cell_type": "code",
   "execution_count": 76,
   "metadata": {},
   "outputs": [
    {
     "data": {
      "text/plain": [
       "'programming'"
      ]
     },
     "execution_count": 76,
     "metadata": {},
     "output_type": "execute_result"
    }
   ],
   "source": [
    "s[0:6]\n",
    "s[:-1]\n",
    "s[6:17]"
   ]
  },
  {
   "cell_type": "code",
   "execution_count": 82,
   "metadata": {},
   "outputs": [
    {
     "name": "stdout",
     "output_type": "stream",
     "text": [
      "pythonprogramming\n"
     ]
    },
    {
     "data": {
      "text/plain": [
       "'ptopormig'"
      ]
     },
     "execution_count": 82,
     "metadata": {},
     "output_type": "execute_result"
    }
   ],
   "source": [
    "print(s)\n",
    "s[0:17:2]"
   ]
  },
  {
   "cell_type": "code",
   "execution_count": 85,
   "metadata": {},
   "outputs": [
    {
     "name": "stdout",
     "output_type": "stream",
     "text": [
      "pythonprogramming\n"
     ]
    },
    {
     "data": {
      "text/plain": [
       "'python'"
      ]
     },
     "execution_count": 85,
     "metadata": {},
     "output_type": "execute_result"
    }
   ],
   "source": [
    "print(s)\n",
    "s[-11:]\n",
    "s[-17:-11]"
   ]
  },
  {
   "cell_type": "code",
   "execution_count": 90,
   "metadata": {},
   "outputs": [
    {
     "name": "stdout",
     "output_type": "stream",
     "text": [
      "Please Enter any Number: 1\n",
      "\n",
      " Reverse of entered number is = 1\n"
     ]
    }
   ],
   "source": [
    "Number = int(input(\"Please Enter any Number: \"))\n",
    "Reverse = 0\n",
    "while(Number > 0):\n",
    "    Reminder = Number %10\n",
    "    Reverse = (Reverse *10) + Reminder\n",
    "    Number = Number //10\n",
    "print(\"\\n Reverse of entered number is = %d\" %Reverse)"
   ]
  },
  {
   "cell_type": "code",
   "execution_count": 101,
   "metadata": {},
   "outputs": [
    {
     "data": {
      "text/plain": [
       "'margorp'"
      ]
     },
     "execution_count": 101,
     "metadata": {},
     "output_type": "execute_result"
    }
   ],
   "source": [
    "s = 'python program'\n",
    "# reverse string \n",
    "s[::-1]\n",
    "s[0:6][::-1]\n",
    "s[7:15][::-1]"
   ]
  },
  {
   "cell_type": "code",
   "execution_count": 111,
   "metadata": {},
   "outputs": [
    {
     "data": {
      "text/plain": [
       "True"
      ]
     },
     "execution_count": 111,
     "metadata": {},
     "output_type": "execute_result"
    }
   ],
   "source": [
    "def Palindrome_Check(word):\n",
    "    if word == word[::-1]:\n",
    "        return True\n",
    "    else:\n",
    "        return False\n",
    "word = 'WoW'\n",
    "Palindrome_Check(word)"
   ]
  },
  {
   "cell_type": "code",
   "execution_count": 114,
   "metadata": {},
   "outputs": [
    {
     "data": {
      "text/plain": [
       "'nohtyp program'"
      ]
     },
     "execution_count": 114,
     "metadata": {},
     "output_type": "execute_result"
    }
   ],
   "source": [
    "s = s[0:6][::-1]+ '' +s[6:18]\n",
    "s"
   ]
  },
  {
   "cell_type": "code",
   "execution_count": 118,
   "metadata": {},
   "outputs": [
    {
     "name": "stdout",
     "output_type": "stream",
     "text": [
      "python Programming"
     ]
    }
   ],
   "source": [
    "#Methods\n",
    "s = 'python Programming'\n",
    "for i in s:\n",
    "    print(i,end='')"
   ]
  },
  {
   "cell_type": "code",
   "execution_count": 117,
   "metadata": {},
   "outputs": [
    {
     "data": {
      "text/plain": [
       "'Python programming'"
      ]
     },
     "execution_count": 117,
     "metadata": {},
     "output_type": "execute_result"
    }
   ],
   "source": [
    "s.capitalize() #returns the first letter as capital"
   ]
  },
  {
   "cell_type": "code",
   "execution_count": 123,
   "metadata": {},
   "outputs": [
    {
     "data": {
      "text/plain": [
       "1"
      ]
     },
     "execution_count": 123,
     "metadata": {},
     "output_type": "execute_result"
    }
   ],
   "source": [
    "s.casefold() # all the letters as small\n",
    "# Lower\n",
    "s.lower()\n",
    "s.count('Pr')"
   ]
  },
  {
   "cell_type": "code",
   "execution_count": 126,
   "metadata": {},
   "outputs": [
    {
     "data": {
      "text/plain": [
       "'***python Programming***'"
      ]
     },
     "execution_count": 126,
     "metadata": {},
     "output_type": "execute_result"
    }
   ],
   "source": [
    "s.center(24,'*')"
   ]
  },
  {
   "cell_type": "code",
   "execution_count": 128,
   "metadata": {},
   "outputs": [
    {
     "data": {
      "text/plain": [
       "True"
      ]
     },
     "execution_count": 128,
     "metadata": {},
     "output_type": "execute_result"
    }
   ],
   "source": [
    "s.startswith('P')\n",
    "s.endswith('g')"
   ]
  },
  {
   "cell_type": "code",
   "execution_count": 132,
   "metadata": {},
   "outputs": [
    {
     "data": {
      "text/plain": [
       "7"
      ]
     },
     "execution_count": 132,
     "metadata": {},
     "output_type": "execute_result"
    }
   ],
   "source": [
    "s.find('P') # Index of the substring\n",
    "s.index('P')"
   ]
  },
  {
   "cell_type": "code",
   "execution_count": 138,
   "metadata": {},
   "outputs": [],
   "source": [
    "s = 'PYTHON programming'"
   ]
  },
  {
   "cell_type": "code",
   "execution_count": 139,
   "metadata": {},
   "outputs": [
    {
     "data": {
      "text/plain": [
       "'Python Programming'"
      ]
     },
     "execution_count": 139,
     "metadata": {},
     "output_type": "execute_result"
    }
   ],
   "source": [
    "s.title()"
   ]
  },
  {
   "cell_type": "code",
   "execution_count": 135,
   "metadata": {},
   "outputs": [
    {
     "data": {
      "text/plain": [
       "'python PROGRAMMING'"
      ]
     },
     "execution_count": 135,
     "metadata": {},
     "output_type": "execute_result"
    }
   ],
   "source": [
    "s.swapcase()"
   ]
  },
  {
   "cell_type": "code",
   "execution_count": 136,
   "metadata": {},
   "outputs": [
    {
     "data": {
      "text/plain": [
       "False"
      ]
     },
     "execution_count": 136,
     "metadata": {},
     "output_type": "execute_result"
    }
   ],
   "source": [
    "s.isalnum()"
   ]
  },
  {
   "cell_type": "code",
   "execution_count": 141,
   "metadata": {},
   "outputs": [
    {
     "data": {
      "text/plain": [
       "False"
      ]
     },
     "execution_count": 141,
     "metadata": {},
     "output_type": "execute_result"
    }
   ],
   "source": [
    "s.isalpha()"
   ]
  },
  {
   "cell_type": "code",
   "execution_count": 143,
   "metadata": {},
   "outputs": [
    {
     "data": {
      "text/plain": [
       "'python program'"
      ]
     },
     "execution_count": 143,
     "metadata": {},
     "output_type": "execute_result"
    }
   ],
   "source": [
    "s1 = ' python program '\n",
    "s1.strip()"
   ]
  },
  {
   "cell_type": "code",
   "execution_count": 147,
   "metadata": {},
   "outputs": [
    {
     "data": {
      "text/plain": [
       "['abc', '123']"
      ]
     },
     "execution_count": 147,
     "metadata": {},
     "output_type": "execute_result"
    }
   ],
   "source": [
    "s = 'abc 123'\n",
    "s.split()"
   ]
  },
  {
   "cell_type": "code",
   "execution_count": 148,
   "metadata": {},
   "outputs": [
    {
     "data": {
      "text/plain": [
       "['abc', '123']"
      ]
     },
     "execution_count": 148,
     "metadata": {},
     "output_type": "execute_result"
    }
   ],
   "source": [
    "li = ['abc','123']\n",
    "s = '@'.join(li)\n",
    "s.split('@')"
   ]
  },
  {
   "cell_type": "code",
   "execution_count": 149,
   "metadata": {},
   "outputs": [
    {
     "data": {
      "text/plain": [
       "False"
      ]
     },
     "execution_count": 149,
     "metadata": {},
     "output_type": "execute_result"
    }
   ],
   "source": [
    "s1.isspace()"
   ]
  },
  {
   "cell_type": "code",
   "execution_count": null,
   "metadata": {},
   "outputs": [],
   "source": [
    "help(s.isspace())"
   ]
  },
  {
   "cell_type": "code",
   "execution_count": 151,
   "metadata": {},
   "outputs": [
    {
     "data": {
      "text/plain": [
       "True"
      ]
     },
     "execution_count": 151,
     "metadata": {},
     "output_type": "execute_result"
    }
   ],
   "source": [
    "' '.isspace()"
   ]
  },
  {
   "cell_type": "code",
   "execution_count": 152,
   "metadata": {},
   "outputs": [
    {
     "data": {
      "text/plain": [
       "' PYTHON PROGRAM '"
      ]
     },
     "execution_count": 152,
     "metadata": {},
     "output_type": "execute_result"
    }
   ],
   "source": [
    "s1.upper()"
   ]
  },
  {
   "cell_type": "code",
   "execution_count": null,
   "metadata": {},
   "outputs": [],
   "source": [
    "# Task 1 :\n",
    "# 1. s = 'abc123@#$'\n",
    "#output:\n",
    "#Alphabets are :3,Digits are :3 and Special Characters :3\n",
    "# task 2:\n",
    "# input : acd bec # 3 ord chr    \n",
    "# output : dfg ehf # 3"
   ]
  },
  {
   "cell_type": "code",
   "execution_count": 153,
   "metadata": {},
   "outputs": [
    {
     "name": "stdout",
     "output_type": "stream",
     "text": [
      "Yes\n"
     ]
    }
   ],
   "source": [
    "def isPalindrome(s):\n",
    "    return s == s[::-1]\n",
    " \n",
    " \n",
    "# Driver code\n",
    "s = \"malayalam\"\n",
    "ans = isPalindrome(s)\n",
    " \n",
    "if ans:\n",
    "    print(\"Yes\")\n",
    "else:\n",
    "    print(\"No\")"
   ]
  },
  {
   "cell_type": "code",
   "execution_count": 154,
   "metadata": {},
   "outputs": [
    {
     "data": {
      "text/plain": [
       "'malayalam'"
      ]
     },
     "execution_count": 154,
     "metadata": {},
     "output_type": "execute_result"
    }
   ],
   "source": [
    "s"
   ]
  },
  {
   "cell_type": "code",
   "execution_count": 155,
   "metadata": {},
   "outputs": [
    {
     "data": {
      "text/plain": [
       "'acedbcedc'"
      ]
     },
     "execution_count": 155,
     "metadata": {},
     "output_type": "execute_result"
    }
   ],
   "source": [
    "s = 'abc'\n",
    "s1 = 'ced'\n",
    "s1.join(s)"
   ]
  },
  {
   "cell_type": "code",
   "execution_count": 2,
   "metadata": {},
   "outputs": [
    {
     "name": "stdout",
     "output_type": "stream",
     "text": [
      "abc123@#$\n",
      "alphabets are: 3, Digits are: 3 and Special Characters are: 3\n"
     ]
    }
   ],
   "source": [
    "# Task 1\n",
    "s = input()\n",
    "ac = dc = scc = 0\n",
    "for i in s:\n",
    "    if i.isalpha():\n",
    "        ac+=1\n",
    "    elif i.isdigit():\n",
    "        dc+=1\n",
    "    else:\n",
    "        scc+=1\n",
    "print('alphabets are: {}, Digits are: {} and Special Characters are: {}'.format(ac,dc,scc))"
   ]
  },
  {
   "cell_type": "code",
   "execution_count": 4,
   "metadata": {},
   "outputs": [
    {
     "name": "stdout",
     "output_type": "stream",
     "text": [
      "alphabets are: 9, Digits are: 9 and Special Characters are: 9\n"
     ]
    }
   ],
   "source": [
    "def char_count(s):\n",
    "    ac = dc = scc = 0\n",
    "for i in s:\n",
    "    if i.isalpha():\n",
    "        ac+=1\n",
    "    elif i.isdigit():\n",
    "        dc+=1\n",
    "    else:\n",
    "        scc+=1\n",
    "print('alphabets are: {}, Digits are: {} and Special Characters are: {}'.format(ac,dc,scc))\n",
    "char_count(\"123bnjnsjhbsbf&&&&&&&&&&\")"
   ]
  },
  {
   "cell_type": "code",
   "execution_count": 6,
   "metadata": {},
   "outputs": [
    {
     "name": "stdout",
     "output_type": "stream",
     "text": [
      "dfg"
     ]
    }
   ],
   "source": [
    "# Task 2\n",
    "def str_task(s):\n",
    "    for i in s:\n",
    "        print(chr(ord(i)+3),end = '')\n",
    "str_task('acd')"
   ]
  },
  {
   "cell_type": "code",
   "execution_count": 12,
   "metadata": {},
   "outputs": [
    {
     "name": "stdout",
     "output_type": "stream",
     "text": [
      "b'hello'\n",
      "hello\n"
     ]
    }
   ],
   "source": [
    "s = 'hello'\n",
    "r = s.encode()\n",
    "print(r)\n",
    "s = r.decode()\n",
    "print(s)"
   ]
  },
  {
   "cell_type": "code",
   "execution_count": null,
   "metadata": {},
   "outputs": [],
   "source": [
    "li = ['abc','123']\n",
    "'@'join()"
   ]
  }
 ],
 "metadata": {
  "kernelspec": {
   "display_name": "Python 3",
   "language": "python",
   "name": "python3"
  },
  "language_info": {
   "codemirror_mode": {
    "name": "ipython",
    "version": 3
   },
   "file_extension": ".py",
   "mimetype": "text/x-python",
   "name": "python",
   "nbconvert_exporter": "python",
   "pygments_lexer": "ipython3",
   "version": "3.6.5"
  }
 },
 "nbformat": 4,
 "nbformat_minor": 4
}
