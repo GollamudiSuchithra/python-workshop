{
 "cells": [
  {
   "cell_type": "markdown",
   "metadata": {},
   "source": [
    "# 1.Regular Expression\n",
    "# 2.Oops\n",
    "# 3.Numpy\n",
    "# 4.Matplotlib\n",
    "# 5.Pandas"
   ]
  },
  {
   "cell_type": "markdown",
   "metadata": {},
   "source": [
    "# Regular Expressions:\n",
    "- to check the data is valid or not\n",
    "- data filters"
   ]
  },
  {
   "cell_type": "code",
   "execution_count": 2,
   "metadata": {},
   "outputs": [
    {
     "name": "stdout",
     "output_type": "stream",
     "text": [
      "False\n",
      "True\n",
      "False\n"
     ]
    }
   ],
   "source": [
    "l=['abc','aca','adc']\n",
    "for i in l:\n",
    "    print(i.endswith('a'))"
   ]
  },
  {
   "cell_type": "code",
   "execution_count": 6,
   "metadata": {},
   "outputs": [
    {
     "name": "stdout",
     "output_type": "stream",
     "text": [
      "aca\n",
      "aaa\n"
     ]
    }
   ],
   "source": [
    "l = ['abc','aca','aaa']\n",
    "for i in l:\n",
    "    if i.endswith('a') and i.startswith('a'):\n",
    "        print(i)"
   ]
  },
  {
   "cell_type": "code",
   "execution_count": 7,
   "metadata": {},
   "outputs": [],
   "source": [
    "import re"
   ]
  },
  {
   "cell_type": "code",
   "execution_count": 9,
   "metadata": {},
   "outputs": [
    {
     "data": {
      "text/plain": [
       "['A',\n",
       " 'ASCII',\n",
       " 'DEBUG',\n",
       " 'DOTALL',\n",
       " 'I',\n",
       " 'IGNORECASE',\n",
       " 'L',\n",
       " 'LOCALE',\n",
       " 'M',\n",
       " 'MULTILINE',\n",
       " 'RegexFlag',\n",
       " 'S',\n",
       " 'Scanner',\n",
       " 'T',\n",
       " 'TEMPLATE',\n",
       " 'U',\n",
       " 'UNICODE',\n",
       " 'VERBOSE',\n",
       " 'X',\n",
       " '_MAXCACHE',\n",
       " '__all__',\n",
       " '__builtins__',\n",
       " '__cached__',\n",
       " '__doc__',\n",
       " '__file__',\n",
       " '__loader__',\n",
       " '__name__',\n",
       " '__package__',\n",
       " '__spec__',\n",
       " '__version__',\n",
       " '_alphanum_bytes',\n",
       " '_alphanum_str',\n",
       " '_cache',\n",
       " '_compile',\n",
       " '_compile_repl',\n",
       " '_expand',\n",
       " '_locale',\n",
       " '_pattern_type',\n",
       " '_pickle',\n",
       " '_subx',\n",
       " 'compile',\n",
       " 'copyreg',\n",
       " 'enum',\n",
       " 'error',\n",
       " 'escape',\n",
       " 'findall',\n",
       " 'finditer',\n",
       " 'fullmatch',\n",
       " 'functools',\n",
       " 'match',\n",
       " 'purge',\n",
       " 'search',\n",
       " 'split',\n",
       " 'sre_compile',\n",
       " 'sre_parse',\n",
       " 'sub',\n",
       " 'subn',\n",
       " 'template']"
      ]
     },
     "execution_count": 9,
     "metadata": {},
     "output_type": "execute_result"
    }
   ],
   "source": [
    "dir(re)"
   ]
  },
  {
   "cell_type": "code",
   "execution_count": 10,
   "metadata": {},
   "outputs": [],
   "source": [
    "# Syntax:\n",
    "# re.methodname(pattern,data)\n",
    "# pattern is format of required output\n",
    "# data is given values"
   ]
  },
  {
   "cell_type": "code",
   "execution_count": 11,
   "metadata": {},
   "outputs": [
    {
     "data": {
      "text/plain": [
       "True"
      ]
     },
     "execution_count": 11,
     "metadata": {},
     "output_type": "execute_result"
    }
   ],
   "source": [
    "s='abcd' \n",
    "'a' in s"
   ]
  },
  {
   "cell_type": "code",
   "execution_count": 12,
   "metadata": {},
   "outputs": [
    {
     "data": {
      "text/plain": [
       "<_sre.SRE_Match object; span=(0, 1), match='a'>"
      ]
     },
     "execution_count": 12,
     "metadata": {},
     "output_type": "execute_result"
    }
   ],
   "source": [
    "re.search('a',s)"
   ]
  },
  {
   "cell_type": "code",
   "execution_count": 14,
   "metadata": {},
   "outputs": [
    {
     "data": {
      "text/plain": [
       "['a']"
      ]
     },
     "execution_count": 14,
     "metadata": {},
     "output_type": "execute_result"
    }
   ],
   "source": [
    "re.findall('a',s)"
   ]
  },
  {
   "cell_type": "markdown",
   "metadata": {},
   "source": [
    "# .(dot)\n",
    "- it matches any single character"
   ]
  },
  {
   "cell_type": "code",
   "execution_count": 19,
   "metadata": {},
   "outputs": [],
   "source": [
    "l = ['ab','aca','aaa','abba']"
   ]
  },
  {
   "cell_type": "code",
   "execution_count": 17,
   "metadata": {},
   "outputs": [
    {
     "name": "stdout",
     "output_type": "stream",
     "text": [
      "abc\n",
      "aca\n",
      "aaa\n",
      "abba\n"
     ]
    }
   ],
   "source": [
    "for i in l:\n",
    "    if re.search('.',i):\n",
    "        print(i)"
   ]
  },
  {
   "cell_type": "code",
   "execution_count": 18,
   "metadata": {},
   "outputs": [
    {
     "name": "stdout",
     "output_type": "stream",
     "text": [
      "abc\n",
      "aca\n",
      "aaa\n"
     ]
    }
   ],
   "source": [
    "for i in l:\n",
    "    if len(i) == 3:\n",
    "        print(i)"
   ]
  },
  {
   "cell_type": "code",
   "execution_count": 20,
   "metadata": {},
   "outputs": [
    {
     "name": "stdout",
     "output_type": "stream",
     "text": [
      "ab\n",
      "aca\n",
      "aaa\n"
     ]
    }
   ],
   "source": [
    "for i in l:\n",
    "    if len(i) == 3 or len(i) == 2:\n",
    "        print(i)"
   ]
  },
  {
   "cell_type": "code",
   "execution_count": 21,
   "metadata": {},
   "outputs": [
    {
     "name": "stdout",
     "output_type": "stream",
     "text": [
      "aca\n",
      "aaa\n",
      "abba\n"
     ]
    }
   ],
   "source": [
    "for i in l:\n",
    "    if re.search('...',i):\n",
    "        print(i)"
   ]
  },
  {
   "cell_type": "markdown",
   "metadata": {},
   "source": [
    "# *(star)\n",
    " - minimum zero\n",
    " - maximum value\n",
    "# +(plus)\n",
    " - minimum 1\n",
    " - maximum any\n",
    "# ^(cap)\n",
    " - starts with\n",
    "# $(doller)\n",
    " - ends with\n",
    "# \\d:\n",
    " - digits\n",
    "# []:\n",
    " - specific values\n",
    "# {min,max}:\n",
    " - min to max value"
   ]
  },
  {
   "cell_type": "code",
   "execution_count": 24,
   "metadata": {},
   "outputs": [
    {
     "name": "stdout",
     "output_type": "stream",
     "text": [
      "abc 123 hello 456\n"
     ]
    }
   ],
   "source": [
    "s = 'abc 123 hello 456'\n",
    "s.split()\n",
    "print(s)"
   ]
  },
  {
   "cell_type": "code",
   "execution_count": 26,
   "metadata": {},
   "outputs": [
    {
     "data": {
      "text/plain": [
       "579"
      ]
     },
     "execution_count": 26,
     "metadata": {},
     "output_type": "execute_result"
    }
   ],
   "source": [
    "s = 'abc 123 hello 456'\n",
    "pattern = '\\d+'\n",
    "li=re.findall(pattern,s)\n",
    "sum(list(map(int,li)))"
   ]
  },
  {
   "cell_type": "code",
   "execution_count": 31,
   "metadata": {},
   "outputs": [
    {
     "name": "stdout",
     "output_type": "stream",
     "text": [
      "Anil\n",
      "Avinash\n"
     ]
    }
   ],
   "source": [
    "names=['Ramu','Anil','Prasanna','Venky','Avinash']\n",
    "pattern='^A.+'\n",
    "for name in names:\n",
    "    if re.match(pattern,name):\n",
    "        print(name)"
   ]
  },
  {
   "cell_type": "code",
   "execution_count": 32,
   "metadata": {},
   "outputs": [
    {
     "name": "stdout",
     "output_type": "stream",
     "text": [
      "Prasanna\n",
      "Venky\n"
     ]
    }
   ],
   "source": [
    "names=['Ramu','Anil','Prasanna','Venky','Avinash']\n",
    "pattern='^A.{3}$'\n",
    "pattern1='^.+[ay]$'\n",
    "for name in names:\n",
    "    if re.match(pattern1,name):\n",
    "        print(name)"
   ]
  },
  {
   "cell_type": "code",
   "execution_count": 33,
   "metadata": {},
   "outputs": [],
   "source": [
    "# How to valid a phone number\n",
    "#1. 10 digits\n",
    "#2. starts with 6-9\n",
    "numbers = ['9133533090','8908403489','9347231597','6300051546','7993762534']"
   ]
  },
  {
   "cell_type": "code",
   "execution_count": 37,
   "metadata": {},
   "outputs": [
    {
     "name": "stdout",
     "output_type": "stream",
     "text": [
      "9133533090\n",
      "8908403489\n",
      "9347231597\n",
      "6300051546\n",
      "7993762534\n"
     ]
    }
   ],
   "source": [
    "pattern='^[6-9]\\d{9}$'\n",
    "for number in numbers:\n",
    "    if re.match(pattern,number):\n",
    "        print(number)"
   ]
  },
  {
   "cell_type": "code",
   "execution_count": 38,
   "metadata": {},
   "outputs": [
    {
     "name": "stdout",
     "output_type": "stream",
     "text": [
      "manishareddy888@gmail.com\n"
     ]
    }
   ],
   "source": [
    "#1. starts with any alphabet\n",
    "#2. any digits\n",
    "#3. @gmail.com\n",
    "emails=['manishareddy888@gmail.com','santhichowdaryinturi123@gmail.com','dammalapatiharitha41@gmail.com'] \n",
    "pattern = '^[A-Za-z]{1,15}[0-9]{0,10}(@gmail.com)$'\n",
    "for email in emails:\n",
    "    if re.match(pattern,email):\n",
    "        print(email)"
   ]
  },
  {
   "cell_type": "markdown",
   "metadata": {},
   "source": [
    "## OOP'S\n",
    "- class: blue print or model of a object\n",
    "- object: physical entity which is having behaviour amd action\n",
    "- constructor: special method which is used to create instance variable"
   ]
  },
  {
   "cell_type": "code",
   "execution_count": 39,
   "metadata": {},
   "outputs": [],
   "source": [
    "# Create a class\n",
    "# class ClassName:\n",
    "    # variables\n",
    "    # methods"
   ]
  },
  {
   "cell_type": "code",
   "execution_count": 40,
   "metadata": {},
   "outputs": [
    {
     "name": "stdout",
     "output_type": "stream",
     "text": [
      "10\n"
     ]
    }
   ],
   "source": [
    "class Student:\n",
    "    x=10\n",
    "print(Student.x)"
   ]
  },
  {
   "cell_type": "code",
   "execution_count": 43,
   "metadata": {},
   "outputs": [],
   "source": [
    "# Create an object\n",
    "# rv = ClassName()\n",
    " s = Student()"
   ]
  },
  {
   "cell_type": "code",
   "execution_count": 44,
   "metadata": {},
   "outputs": [
    {
     "data": {
      "text/plain": [
       "10"
      ]
     },
     "execution_count": 44,
     "metadata": {},
     "output_type": "execute_result"
    }
   ],
   "source": [
    "s.x"
   ]
  },
  {
   "cell_type": "code",
   "execution_count": 47,
   "metadata": {},
   "outputs": [
    {
     "name": "stdout",
     "output_type": "stream",
     "text": [
      "10\n",
      "helloSri\n"
     ]
    }
   ],
   "source": [
    "class Student:\n",
    "    x=10\n",
    "    def display(self,name):\n",
    "        print('hello{}'.format(name))\n",
    "s = Student()\n",
    "print(s.x)\n",
    "s.display('Sri')"
   ]
  },
  {
   "cell_type": "code",
   "execution_count": 50,
   "metadata": {},
   "outputs": [],
   "source": [
    "class Student:\n",
    "    x=10 #class var or static\n",
    "    def __init__(self,name):\n",
    "        self.name=name\n",
    "        y=20 # instance var\n",
    "        print('This is constructor...')\n",
    "    def m1(self):\n",
    "        z=30 # local var\n",
    "        print('This is method...')\n",
    "        print('my name is {}'.format(self.name))\n",
    "        print(z)"
   ]
  },
  {
   "cell_type": "code",
   "execution_count": 52,
   "metadata": {},
   "outputs": [
    {
     "name": "stdout",
     "output_type": "stream",
     "text": [
      "This is constructor...\n",
      "This is constructor...\n"
     ]
    }
   ],
   "source": [
    "s=Student()\n",
    "s1=Student()"
   ]
  },
  {
   "cell_type": "code",
   "execution_count": 56,
   "metadata": {},
   "outputs": [
    {
     "data": {
      "text/plain": [
       "10"
      ]
     },
     "execution_count": 56,
     "metadata": {},
     "output_type": "execute_result"
    }
   ],
   "source": [
    "s1.x"
   ]
  },
  {
   "cell_type": "code",
   "execution_count": 57,
   "metadata": {},
   "outputs": [
    {
     "name": "stdout",
     "output_type": "stream",
     "text": [
      "This is method...\n"
     ]
    }
   ],
   "source": [
    "s1.m1()"
   ]
  },
  {
   "cell_type": "code",
   "execution_count": null,
   "metadata": {},
   "outputs": [],
   "source": []
  }
 ],
 "metadata": {
  "kernelspec": {
   "display_name": "Python 3",
   "language": "python",
   "name": "python3"
  },
  "language_info": {
   "codemirror_mode": {
    "name": "ipython",
    "version": 3
   },
   "file_extension": ".py",
   "mimetype": "text/x-python",
   "name": "python",
   "nbconvert_exporter": "python",
   "pygments_lexer": "ipython3",
   "version": "3.6.5"
  }
 },
 "nbformat": 4,
 "nbformat_minor": 4
}
